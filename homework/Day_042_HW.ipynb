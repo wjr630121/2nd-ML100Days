{
 "cells": [
  {
   "cell_type": "markdown",
   "metadata": {},
   "source": [
    "## [作業重點]\n",
    "目前你應該已經要很清楚資料集中，資料的型態是什麼樣子囉！包含特徵 (features) 與標籤 (labels)。因此要記得未來不管什麼專案，必須要把資料清理成相同的格式，才能送進模型訓練。\n",
    "今天的作業開始踏入決策樹這個非常重要的模型，請務必確保你理解模型中每個超參數的意思，並試著調整看看，對最終預測結果的影響為何"
   ]
  },
  {
   "cell_type": "markdown",
   "metadata": {},
   "source": [
    "## 作業\n",
    "\n",
    "1. 試著調整 DecisionTreeClassifier(...) 中的參數，並觀察是否會改變結果？\n",
    "2. 改用其他資料集 (boston, wine)，並與回歸模型的結果進行比較"
   ]
  },
  {
   "cell_type": "code",
   "execution_count": 1,
   "metadata": {},
   "outputs": [],
   "source": [
    "from sklearn import datasets, metrics\n",
    "\n",
    "# 如果是分類問題，請使用 DecisionTreeClassifier，若為回歸問題，請使用 DecisionTreeRegressor\n",
    "from sklearn.tree import DecisionTreeClassifier, DecisionTreeRegressor\n",
    "from sklearn.model_selection import train_test_split"
   ]
  },
  {
   "cell_type": "code",
   "execution_count": 2,
   "metadata": {},
   "outputs": [],
   "source": [
    "# 讀取WINE資料集\n",
    "wine = datasets.load_wine()\n",
    "\n",
    "# 切分訓練集/測試集\n",
    "x_train, x_test, y_train, y_test = train_test_split(wine.data, wine.target, test_size=0.25, random_state=4)\n"
   ]
  },
  {
   "cell_type": "code",
   "execution_count": 3,
   "metadata": {},
   "outputs": [],
   "source": [
    "# 建立模型\n",
    "clf = DecisionTreeClassifier()\n",
    "\n",
    "# 訓練模型\n",
    "clf.fit(x_train, y_train)\n",
    "\n",
    "# 預測測試集\n",
    "y_pred = clf.predict(x_test)"
   ]
  },
  {
   "cell_type": "code",
   "execution_count": 4,
   "metadata": {},
   "outputs": [
    {
     "name": "stdout",
     "output_type": "stream",
     "text": [
      "Acuuracy:  0.8666666666666667\n"
     ]
    }
   ],
   "source": [
    "acc = metrics.accuracy_score(y_test, y_pred)\n",
    "print(\"Acuuracy: \", acc)"
   ]
  },
  {
   "cell_type": "code",
   "execution_count": 5,
   "metadata": {},
   "outputs": [
    {
     "name": "stdout",
     "output_type": "stream",
     "text": [
      "['alcohol', 'malic_acid', 'ash', 'alcalinity_of_ash', 'magnesium', 'total_phenols', 'flavanoids', 'nonflavanoid_phenols', 'proanthocyanins', 'color_intensity', 'hue', 'od280/od315_of_diluted_wines', 'proline']\n",
      "Feature importance:  [0.01364138 0.03076567 0.         0.         0.04405085 0.04296585\n",
      " 0.         0.         0.         0.33702516 0.         0.12444169\n",
      " 0.4071094 ]\n"
     ]
    }
   ],
   "source": [
    "print(wine.feature_names)\n",
    "print(\"Feature importance: \", clf.feature_importances_)"
   ]
  },
  {
   "cell_type": "code",
   "execution_count": 6,
   "metadata": {},
   "outputs": [
    {
     "name": "stdout",
     "output_type": "stream",
     "text": [
      "Acuuracy:  0.8888888888888888\n"
     ]
    }
   ],
   "source": [
    "# 建立模型 criterion = 'gini', max_depth = 10, min_samples_split = 2, min_samples_leaf = 1\n",
    "clf = DecisionTreeClassifier(criterion = 'gini', max_depth = 10, min_samples_split = 2, min_samples_leaf = 1)\n",
    "\n",
    "# 訓練模型\n",
    "clf.fit(x_train, y_train)\n",
    "\n",
    "# 預測測試集\n",
    "y_pred = clf.predict(x_test)\n",
    "\n",
    "acc = metrics.accuracy_score(y_test, y_pred)\n",
    "print(\"Acuuracy: \", acc)"
   ]
  },
  {
   "cell_type": "code",
   "execution_count": 7,
   "metadata": {},
   "outputs": [
    {
     "name": "stdout",
     "output_type": "stream",
     "text": [
      "Acuuracy:  0.9555555555555556\n"
     ]
    }
   ],
   "source": [
    "# 建立模型 criterion = 'entropy', max_depth = 10, min_samples_split = 2, min_samples_leaf = 1\n",
    "clf = DecisionTreeClassifier(criterion = 'entropy', max_depth = 10, min_samples_split = 2, min_samples_leaf = 1)\n",
    "\n",
    "# 訓練模型\n",
    "clf.fit(x_train, y_train)\n",
    "\n",
    "# 預測測試集\n",
    "y_pred = clf.predict(x_test)\n",
    "\n",
    "acc = metrics.accuracy_score(y_test, y_pred)\n",
    "print(\"Acuuracy: \", acc)"
   ]
  },
  {
   "cell_type": "code",
   "execution_count": 8,
   "metadata": {},
   "outputs": [
    {
     "name": "stdout",
     "output_type": "stream",
     "text": [
      "Acuuracy:  0.9333333333333333\n"
     ]
    }
   ],
   "source": [
    "# 建立模型 criterion = 'entropy', max_depth = 20, min_samples_split = 2, min_samples_leaf = 1\n",
    "clf = DecisionTreeClassifier(criterion = 'entropy', max_depth = 20, min_samples_split = 2, min_samples_leaf = 1)\n",
    "\n",
    "# 訓練模型\n",
    "clf.fit(x_train, y_train)\n",
    "\n",
    "# 預測測試集\n",
    "y_pred = clf.predict(x_test)\n",
    "\n",
    "acc = metrics.accuracy_score(y_test, y_pred)\n",
    "print(\"Acuuracy: \", acc)"
   ]
  },
  {
   "cell_type": "code",
   "execution_count": 9,
   "metadata": {},
   "outputs": [
    {
     "name": "stdout",
     "output_type": "stream",
     "text": [
      "Acuuracy:  0.9555555555555556\n"
     ]
    }
   ],
   "source": [
    "# 建立模型 criterion = 'entropy', max_depth = 30, min_samples_split = 2, min_samples_leaf = 1\n",
    "clf = DecisionTreeClassifier(criterion = 'entropy', max_depth = 30, min_samples_split = 2, min_samples_leaf = 1)\n",
    "\n",
    "# 訓練模型\n",
    "clf.fit(x_train, y_train)\n",
    "\n",
    "# 預測測試集\n",
    "y_pred = clf.predict(x_test)\n",
    "\n",
    "acc = metrics.accuracy_score(y_test, y_pred)\n",
    "print(\"Acuuracy: \", acc)"
   ]
  },
  {
   "cell_type": "code",
   "execution_count": 10,
   "metadata": {},
   "outputs": [],
   "source": [
    "import graphviz\n",
    "from sklearn.tree import export_graphviz\n",
    "dot_data = export_graphviz(clf, out_file=None) \n",
    "graph = graphviz.Source(dot_data) "
   ]
  },
  {
   "cell_type": "code",
   "execution_count": 11,
   "metadata": {},
   "outputs": [
    {
     "data": {
      "image/svg+xml": [
       "<?xml version=\"1.0\" encoding=\"UTF-8\" standalone=\"no\"?>\r\n",
       "<!DOCTYPE svg PUBLIC \"-//W3C//DTD SVG 1.1//EN\"\r\n",
       " \"http://www.w3.org/Graphics/SVG/1.1/DTD/svg11.dtd\">\r\n",
       "<!-- Generated by graphviz version 2.38.0 (20140413.2041)\r\n",
       " -->\r\n",
       "<!-- Title: Tree Pages: 1 -->\r\n",
       "<svg width=\"693pt\" height=\"552pt\"\r\n",
       " viewBox=\"0.00 0.00 693.00 552.00\" xmlns=\"http://www.w3.org/2000/svg\" xmlns:xlink=\"http://www.w3.org/1999/xlink\">\r\n",
       "<g id=\"graph0\" class=\"graph\" transform=\"scale(1 1) rotate(0) translate(4 548)\">\r\n",
       "<title>Tree</title>\r\n",
       "<polygon fill=\"white\" stroke=\"none\" points=\"-4,4 -4,-548 689,-548 689,4 -4,4\"/>\r\n",
       "<!-- 0 -->\r\n",
       "<g id=\"node1\" class=\"node\"><title>0</title>\r\n",
       "<path fill=\"#39e581\" fill-opacity=\"0.133333\" stroke=\"black\" d=\"M325,-544C325,-544 212,-544 212,-544 206,-544 200,-538 200,-532 200,-532 200,-473 200,-473 200,-467 206,-461 212,-461 212,-461 325,-461 325,-461 331,-461 337,-467 337,-473 337,-473 337,-532 337,-532 337,-538 331,-544 325,-544\"/>\r\n",
       "<text text-anchor=\"start\" x=\"210.5\" y=\"-528.8\" font-family=\"Helvetica,sans-Serif\" font-size=\"14.00\">flavanoids ≤ 1.575</text>\r\n",
       "<text text-anchor=\"start\" x=\"218.5\" y=\"-513.8\" font-family=\"Helvetica,sans-Serif\" font-size=\"14.00\">entropy = 1.552</text>\r\n",
       "<text text-anchor=\"start\" x=\"221\" y=\"-498.8\" font-family=\"Helvetica,sans-Serif\" font-size=\"14.00\">samples = 133</text>\r\n",
       "<text text-anchor=\"start\" x=\"208\" y=\"-483.8\" font-family=\"Helvetica,sans-Serif\" font-size=\"14.00\">value = [44, 56, 33]</text>\r\n",
       "<text text-anchor=\"start\" x=\"219\" y=\"-468.8\" font-family=\"Helvetica,sans-Serif\" font-size=\"14.00\">class = class_1</text>\r\n",
       "</g>\r\n",
       "<!-- 1 -->\r\n",
       "<g id=\"node2\" class=\"node\"><title>1</title>\r\n",
       "<path fill=\"#8139e5\" fill-opacity=\"0.756863\" stroke=\"black\" d=\"M255,-425C255,-425 120,-425 120,-425 114,-425 108,-419 108,-413 108,-413 108,-354 108,-354 108,-348 114,-342 120,-342 120,-342 255,-342 255,-342 261,-342 267,-348 267,-354 267,-354 267,-413 267,-413 267,-419 261,-425 255,-425\"/>\r\n",
       "<text text-anchor=\"start\" x=\"116\" y=\"-409.8\" font-family=\"Helvetica,sans-Serif\" font-size=\"14.00\">color_intensity ≤ 3.825</text>\r\n",
       "<text text-anchor=\"start\" x=\"137.5\" y=\"-394.8\" font-family=\"Helvetica,sans-Serif\" font-size=\"14.00\">entropy = 0.712</text>\r\n",
       "<text text-anchor=\"start\" x=\"144\" y=\"-379.8\" font-family=\"Helvetica,sans-Serif\" font-size=\"14.00\">samples = 41</text>\r\n",
       "<text text-anchor=\"start\" x=\"135\" y=\"-364.8\" font-family=\"Helvetica,sans-Serif\" font-size=\"14.00\">value = [0, 8, 33]</text>\r\n",
       "<text text-anchor=\"start\" x=\"138\" y=\"-349.8\" font-family=\"Helvetica,sans-Serif\" font-size=\"14.00\">class = class_2</text>\r\n",
       "</g>\r\n",
       "<!-- 0&#45;&gt;1 -->\r\n",
       "<g id=\"edge1\" class=\"edge\"><title>0&#45;&gt;1</title>\r\n",
       "<path fill=\"none\" stroke=\"black\" d=\"M240.397,-460.907C234.24,-452.014 227.66,-442.509 221.306,-433.331\"/>\r\n",
       "<polygon fill=\"black\" stroke=\"black\" points=\"224.123,-431.251 215.553,-425.021 218.367,-435.235 224.123,-431.251\"/>\r\n",
       "<text text-anchor=\"middle\" x=\"211.081\" y=\"-445.918\" font-family=\"Helvetica,sans-Serif\" font-size=\"14.00\">True</text>\r\n",
       "</g>\r\n",
       "<!-- 4 -->\r\n",
       "<g id=\"node5\" class=\"node\"><title>4</title>\r\n",
       "<path fill=\"#39e581\" fill-opacity=\"0.082353\" stroke=\"black\" d=\"M402,-425C402,-425 297,-425 297,-425 291,-425 285,-419 285,-413 285,-413 285,-354 285,-354 285,-348 291,-342 297,-342 297,-342 402,-342 402,-342 408,-342 414,-348 414,-354 414,-354 414,-413 414,-413 414,-419 408,-425 402,-425\"/>\r\n",
       "<text text-anchor=\"start\" x=\"302\" y=\"-409.8\" font-family=\"Helvetica,sans-Serif\" font-size=\"14.00\">proline ≤ 722.5</text>\r\n",
       "<text text-anchor=\"start\" x=\"299.5\" y=\"-394.8\" font-family=\"Helvetica,sans-Serif\" font-size=\"14.00\">entropy = 0.999</text>\r\n",
       "<text text-anchor=\"start\" x=\"306\" y=\"-379.8\" font-family=\"Helvetica,sans-Serif\" font-size=\"14.00\">samples = 92</text>\r\n",
       "<text text-anchor=\"start\" x=\"293\" y=\"-364.8\" font-family=\"Helvetica,sans-Serif\" font-size=\"14.00\">value = [44, 48, 0]</text>\r\n",
       "<text text-anchor=\"start\" x=\"300\" y=\"-349.8\" font-family=\"Helvetica,sans-Serif\" font-size=\"14.00\">class = class_1</text>\r\n",
       "</g>\r\n",
       "<!-- 0&#45;&gt;4 -->\r\n",
       "<g id=\"edge4\" class=\"edge\"><title>0&#45;&gt;4</title>\r\n",
       "<path fill=\"none\" stroke=\"black\" d=\"M296.603,-460.907C302.76,-452.014 309.34,-442.509 315.694,-433.331\"/>\r\n",
       "<polygon fill=\"black\" stroke=\"black\" points=\"318.633,-435.235 321.447,-425.021 312.877,-431.251 318.633,-435.235\"/>\r\n",
       "<text text-anchor=\"middle\" x=\"325.919\" y=\"-445.918\" font-family=\"Helvetica,sans-Serif\" font-size=\"14.00\">False</text>\r\n",
       "</g>\r\n",
       "<!-- 2 -->\r\n",
       "<g id=\"node3\" class=\"node\"><title>2</title>\r\n",
       "<path fill=\"#39e581\" stroke=\"black\" d=\"M103,-298.5C103,-298.5 12,-298.5 12,-298.5 6,-298.5 0,-292.5 0,-286.5 0,-286.5 0,-242.5 0,-242.5 0,-236.5 6,-230.5 12,-230.5 12,-230.5 103,-230.5 103,-230.5 109,-230.5 115,-236.5 115,-242.5 115,-242.5 115,-286.5 115,-286.5 115,-292.5 109,-298.5 103,-298.5\"/>\r\n",
       "<text text-anchor=\"start\" x=\"15.5\" y=\"-283.3\" font-family=\"Helvetica,sans-Serif\" font-size=\"14.00\">entropy = 0.0</text>\r\n",
       "<text text-anchor=\"start\" x=\"18\" y=\"-268.3\" font-family=\"Helvetica,sans-Serif\" font-size=\"14.00\">samples = 8</text>\r\n",
       "<text text-anchor=\"start\" x=\"9\" y=\"-253.3\" font-family=\"Helvetica,sans-Serif\" font-size=\"14.00\">value = [0, 8, 0]</text>\r\n",
       "<text text-anchor=\"start\" x=\"8\" y=\"-238.3\" font-family=\"Helvetica,sans-Serif\" font-size=\"14.00\">class = class_1</text>\r\n",
       "</g>\r\n",
       "<!-- 1&#45;&gt;2 -->\r\n",
       "<g id=\"edge2\" class=\"edge\"><title>1&#45;&gt;2</title>\r\n",
       "<path fill=\"none\" stroke=\"black\" d=\"M142.397,-341.907C129.278,-330.101 114.963,-317.217 101.888,-305.45\"/>\r\n",
       "<polygon fill=\"black\" stroke=\"black\" points=\"104.127,-302.755 94.3522,-298.667 99.4437,-307.958 104.127,-302.755\"/>\r\n",
       "</g>\r\n",
       "<!-- 3 -->\r\n",
       "<g id=\"node4\" class=\"node\"><title>3</title>\r\n",
       "<path fill=\"#8139e5\" stroke=\"black\" d=\"M242,-298.5C242,-298.5 145,-298.5 145,-298.5 139,-298.5 133,-292.5 133,-286.5 133,-286.5 133,-242.5 133,-242.5 133,-236.5 139,-230.5 145,-230.5 145,-230.5 242,-230.5 242,-230.5 248,-230.5 254,-236.5 254,-242.5 254,-242.5 254,-286.5 254,-286.5 254,-292.5 248,-298.5 242,-298.5\"/>\r\n",
       "<text text-anchor=\"start\" x=\"151.5\" y=\"-283.3\" font-family=\"Helvetica,sans-Serif\" font-size=\"14.00\">entropy = 0.0</text>\r\n",
       "<text text-anchor=\"start\" x=\"150\" y=\"-268.3\" font-family=\"Helvetica,sans-Serif\" font-size=\"14.00\">samples = 33</text>\r\n",
       "<text text-anchor=\"start\" x=\"141\" y=\"-253.3\" font-family=\"Helvetica,sans-Serif\" font-size=\"14.00\">value = [0, 0, 33]</text>\r\n",
       "<text text-anchor=\"start\" x=\"144\" y=\"-238.3\" font-family=\"Helvetica,sans-Serif\" font-size=\"14.00\">class = class_2</text>\r\n",
       "</g>\r\n",
       "<!-- 1&#45;&gt;3 -->\r\n",
       "<g id=\"edge3\" class=\"edge\"><title>1&#45;&gt;3</title>\r\n",
       "<path fill=\"none\" stroke=\"black\" d=\"M189.582,-341.907C190.131,-331.204 190.725,-319.615 191.281,-308.776\"/>\r\n",
       "<polygon fill=\"black\" stroke=\"black\" points=\"194.782,-308.833 191.799,-298.667 187.791,-308.475 194.782,-308.833\"/>\r\n",
       "</g>\r\n",
       "<!-- 5 -->\r\n",
       "<g id=\"node6\" class=\"node\"><title>5</title>\r\n",
       "<path fill=\"#39e581\" fill-opacity=\"0.976471\" stroke=\"black\" d=\"M392,-306C392,-306 295,-306 295,-306 289,-306 283,-300 283,-294 283,-294 283,-235 283,-235 283,-229 289,-223 295,-223 295,-223 392,-223 392,-223 398,-223 404,-229 404,-235 404,-235 404,-294 404,-294 404,-300 398,-306 392,-306\"/>\r\n",
       "<text text-anchor=\"start\" x=\"296\" y=\"-290.8\" font-family=\"Helvetica,sans-Serif\" font-size=\"14.00\">proline ≤ 679.0</text>\r\n",
       "<text text-anchor=\"start\" x=\"293.5\" y=\"-275.8\" font-family=\"Helvetica,sans-Serif\" font-size=\"14.00\">entropy = 0.151</text>\r\n",
       "<text text-anchor=\"start\" x=\"300\" y=\"-260.8\" font-family=\"Helvetica,sans-Serif\" font-size=\"14.00\">samples = 46</text>\r\n",
       "<text text-anchor=\"start\" x=\"291\" y=\"-245.8\" font-family=\"Helvetica,sans-Serif\" font-size=\"14.00\">value = [1, 45, 0]</text>\r\n",
       "<text text-anchor=\"start\" x=\"294\" y=\"-230.8\" font-family=\"Helvetica,sans-Serif\" font-size=\"14.00\">class = class_1</text>\r\n",
       "</g>\r\n",
       "<!-- 4&#45;&gt;5 -->\r\n",
       "<g id=\"edge5\" class=\"edge\"><title>4&#45;&gt;5</title>\r\n",
       "<path fill=\"none\" stroke=\"black\" d=\"M347.418,-341.907C346.99,-333.558 346.534,-324.671 346.091,-316.02\"/>\r\n",
       "<polygon fill=\"black\" stroke=\"black\" points=\"349.586,-315.828 345.578,-306.021 342.595,-316.187 349.586,-315.828\"/>\r\n",
       "</g>\r\n",
       "<!-- 10 -->\r\n",
       "<g id=\"node11\" class=\"node\"><title>10</title>\r\n",
       "<path fill=\"#e58139\" fill-opacity=\"0.929412\" stroke=\"black\" d=\"M552.5,-306C552.5,-306 434.5,-306 434.5,-306 428.5,-306 422.5,-300 422.5,-294 422.5,-294 422.5,-235 422.5,-235 422.5,-229 428.5,-223 434.5,-223 434.5,-223 552.5,-223 552.5,-223 558.5,-223 564.5,-229 564.5,-235 564.5,-235 564.5,-294 564.5,-294 564.5,-300 558.5,-306 552.5,-306\"/>\r\n",
       "<text text-anchor=\"start\" x=\"430.5\" y=\"-290.8\" font-family=\"Helvetica,sans-Serif\" font-size=\"14.00\">magnesium ≤ 132.0</text>\r\n",
       "<text text-anchor=\"start\" x=\"443.5\" y=\"-275.8\" font-family=\"Helvetica,sans-Serif\" font-size=\"14.00\">entropy = 0.348</text>\r\n",
       "<text text-anchor=\"start\" x=\"450\" y=\"-260.8\" font-family=\"Helvetica,sans-Serif\" font-size=\"14.00\">samples = 46</text>\r\n",
       "<text text-anchor=\"start\" x=\"441\" y=\"-245.8\" font-family=\"Helvetica,sans-Serif\" font-size=\"14.00\">value = [43, 3, 0]</text>\r\n",
       "<text text-anchor=\"start\" x=\"444\" y=\"-230.8\" font-family=\"Helvetica,sans-Serif\" font-size=\"14.00\">class = class_0</text>\r\n",
       "</g>\r\n",
       "<!-- 4&#45;&gt;10 -->\r\n",
       "<g id=\"edge10\" class=\"edge\"><title>4&#45;&gt;10</title>\r\n",
       "<path fill=\"none\" stroke=\"black\" d=\"M399.46,-341.907C411.188,-332.379 423.779,-322.148 435.814,-312.37\"/>\r\n",
       "<polygon fill=\"black\" stroke=\"black\" points=\"438.074,-315.043 443.628,-306.021 433.66,-309.61 438.074,-315.043\"/>\r\n",
       "</g>\r\n",
       "<!-- 6 -->\r\n",
       "<g id=\"node7\" class=\"node\"><title>6</title>\r\n",
       "<path fill=\"#39e581\" stroke=\"black\" d=\"M251,-179.5C251,-179.5 154,-179.5 154,-179.5 148,-179.5 142,-173.5 142,-167.5 142,-167.5 142,-123.5 142,-123.5 142,-117.5 148,-111.5 154,-111.5 154,-111.5 251,-111.5 251,-111.5 257,-111.5 263,-117.5 263,-123.5 263,-123.5 263,-167.5 263,-167.5 263,-173.5 257,-179.5 251,-179.5\"/>\r\n",
       "<text text-anchor=\"start\" x=\"160.5\" y=\"-164.3\" font-family=\"Helvetica,sans-Serif\" font-size=\"14.00\">entropy = 0.0</text>\r\n",
       "<text text-anchor=\"start\" x=\"159\" y=\"-149.3\" font-family=\"Helvetica,sans-Serif\" font-size=\"14.00\">samples = 42</text>\r\n",
       "<text text-anchor=\"start\" x=\"150\" y=\"-134.3\" font-family=\"Helvetica,sans-Serif\" font-size=\"14.00\">value = [0, 42, 0]</text>\r\n",
       "<text text-anchor=\"start\" x=\"153\" y=\"-119.3\" font-family=\"Helvetica,sans-Serif\" font-size=\"14.00\">class = class_1</text>\r\n",
       "</g>\r\n",
       "<!-- 5&#45;&gt;6 -->\r\n",
       "<g id=\"edge6\" class=\"edge\"><title>5&#45;&gt;6</title>\r\n",
       "<path fill=\"none\" stroke=\"black\" d=\"M294.581,-222.907C280.219,-210.99 264.535,-197.976 250.247,-186.12\"/>\r\n",
       "<polygon fill=\"black\" stroke=\"black\" points=\"252.401,-183.359 242.47,-179.667 247.931,-188.746 252.401,-183.359\"/>\r\n",
       "</g>\r\n",
       "<!-- 7 -->\r\n",
       "<g id=\"node8\" class=\"node\"><title>7</title>\r\n",
       "<path fill=\"#39e581\" fill-opacity=\"0.666667\" stroke=\"black\" d=\"M397.5,-187C397.5,-187 293.5,-187 293.5,-187 287.5,-187 281.5,-181 281.5,-175 281.5,-175 281.5,-116 281.5,-116 281.5,-110 287.5,-104 293.5,-104 293.5,-104 397.5,-104 397.5,-104 403.5,-104 409.5,-110 409.5,-116 409.5,-116 409.5,-175 409.5,-175 409.5,-181 403.5,-187 397.5,-187\"/>\r\n",
       "<text text-anchor=\"start\" x=\"289.5\" y=\"-171.8\" font-family=\"Helvetica,sans-Serif\" font-size=\"14.00\">malic_acid ≤ 3.03</text>\r\n",
       "<text text-anchor=\"start\" x=\"295.5\" y=\"-156.8\" font-family=\"Helvetica,sans-Serif\" font-size=\"14.00\">entropy = 0.811</text>\r\n",
       "<text text-anchor=\"start\" x=\"306\" y=\"-141.8\" font-family=\"Helvetica,sans-Serif\" font-size=\"14.00\">samples = 4</text>\r\n",
       "<text text-anchor=\"start\" x=\"297\" y=\"-126.8\" font-family=\"Helvetica,sans-Serif\" font-size=\"14.00\">value = [1, 3, 0]</text>\r\n",
       "<text text-anchor=\"start\" x=\"296\" y=\"-111.8\" font-family=\"Helvetica,sans-Serif\" font-size=\"14.00\">class = class_1</text>\r\n",
       "</g>\r\n",
       "<!-- 5&#45;&gt;7 -->\r\n",
       "<g id=\"edge7\" class=\"edge\"><title>5&#45;&gt;7</title>\r\n",
       "<path fill=\"none\" stroke=\"black\" d=\"M344.194,-222.907C344.337,-214.558 344.489,-205.671 344.636,-197.02\"/>\r\n",
       "<polygon fill=\"black\" stroke=\"black\" points=\"348.136,-197.079 344.807,-187.021 341.137,-196.959 348.136,-197.079\"/>\r\n",
       "</g>\r\n",
       "<!-- 8 -->\r\n",
       "<g id=\"node9\" class=\"node\"><title>8</title>\r\n",
       "<path fill=\"#39e581\" stroke=\"black\" d=\"M324,-68C324,-68 233,-68 233,-68 227,-68 221,-62 221,-56 221,-56 221,-12 221,-12 221,-6 227,-0 233,-0 233,-0 324,-0 324,-0 330,-0 336,-6 336,-12 336,-12 336,-56 336,-56 336,-62 330,-68 324,-68\"/>\r\n",
       "<text text-anchor=\"start\" x=\"236.5\" y=\"-52.8\" font-family=\"Helvetica,sans-Serif\" font-size=\"14.00\">entropy = 0.0</text>\r\n",
       "<text text-anchor=\"start\" x=\"239\" y=\"-37.8\" font-family=\"Helvetica,sans-Serif\" font-size=\"14.00\">samples = 3</text>\r\n",
       "<text text-anchor=\"start\" x=\"230\" y=\"-22.8\" font-family=\"Helvetica,sans-Serif\" font-size=\"14.00\">value = [0, 3, 0]</text>\r\n",
       "<text text-anchor=\"start\" x=\"229\" y=\"-7.8\" font-family=\"Helvetica,sans-Serif\" font-size=\"14.00\">class = class_1</text>\r\n",
       "</g>\r\n",
       "<!-- 7&#45;&gt;8 -->\r\n",
       "<g id=\"edge8\" class=\"edge\"><title>7&#45;&gt;8</title>\r\n",
       "<path fill=\"none\" stroke=\"black\" d=\"M320.552,-103.726C315.194,-94.9703 309.524,-85.7032 304.141,-76.9051\"/>\r\n",
       "<polygon fill=\"black\" stroke=\"black\" points=\"307.08,-75.0028 298.875,-68.2996 301.109,-78.6563 307.08,-75.0028\"/>\r\n",
       "</g>\r\n",
       "<!-- 9 -->\r\n",
       "<g id=\"node10\" class=\"node\"><title>9</title>\r\n",
       "<path fill=\"#e58139\" stroke=\"black\" d=\"M457,-68C457,-68 366,-68 366,-68 360,-68 354,-62 354,-56 354,-56 354,-12 354,-12 354,-6 360,-0 366,-0 366,-0 457,-0 457,-0 463,-0 469,-6 469,-12 469,-12 469,-56 469,-56 469,-62 463,-68 457,-68\"/>\r\n",
       "<text text-anchor=\"start\" x=\"369.5\" y=\"-52.8\" font-family=\"Helvetica,sans-Serif\" font-size=\"14.00\">entropy = 0.0</text>\r\n",
       "<text text-anchor=\"start\" x=\"372\" y=\"-37.8\" font-family=\"Helvetica,sans-Serif\" font-size=\"14.00\">samples = 1</text>\r\n",
       "<text text-anchor=\"start\" x=\"363\" y=\"-22.8\" font-family=\"Helvetica,sans-Serif\" font-size=\"14.00\">value = [1, 0, 0]</text>\r\n",
       "<text text-anchor=\"start\" x=\"362\" y=\"-7.8\" font-family=\"Helvetica,sans-Serif\" font-size=\"14.00\">class = class_0</text>\r\n",
       "</g>\r\n",
       "<!-- 7&#45;&gt;9 -->\r\n",
       "<g id=\"edge9\" class=\"edge\"><title>7&#45;&gt;9</title>\r\n",
       "<path fill=\"none\" stroke=\"black\" d=\"M370.076,-103.726C375.354,-94.9703 380.939,-85.7032 386.242,-76.9051\"/>\r\n",
       "<polygon fill=\"black\" stroke=\"black\" points=\"389.264,-78.671 391.429,-68.2996 383.269,-75.0574 389.264,-78.671\"/>\r\n",
       "</g>\r\n",
       "<!-- 11 -->\r\n",
       "<g id=\"node12\" class=\"node\"><title>11</title>\r\n",
       "<path fill=\"#e58139\" stroke=\"black\" d=\"M540,-179.5C540,-179.5 443,-179.5 443,-179.5 437,-179.5 431,-173.5 431,-167.5 431,-167.5 431,-123.5 431,-123.5 431,-117.5 437,-111.5 443,-111.5 443,-111.5 540,-111.5 540,-111.5 546,-111.5 552,-117.5 552,-123.5 552,-123.5 552,-167.5 552,-167.5 552,-173.5 546,-179.5 540,-179.5\"/>\r\n",
       "<text text-anchor=\"start\" x=\"449.5\" y=\"-164.3\" font-family=\"Helvetica,sans-Serif\" font-size=\"14.00\">entropy = 0.0</text>\r\n",
       "<text text-anchor=\"start\" x=\"448\" y=\"-149.3\" font-family=\"Helvetica,sans-Serif\" font-size=\"14.00\">samples = 43</text>\r\n",
       "<text text-anchor=\"start\" x=\"439\" y=\"-134.3\" font-family=\"Helvetica,sans-Serif\" font-size=\"14.00\">value = [43, 0, 0]</text>\r\n",
       "<text text-anchor=\"start\" x=\"442\" y=\"-119.3\" font-family=\"Helvetica,sans-Serif\" font-size=\"14.00\">class = class_0</text>\r\n",
       "</g>\r\n",
       "<!-- 10&#45;&gt;11 -->\r\n",
       "<g id=\"edge11\" class=\"edge\"><title>10&#45;&gt;11</title>\r\n",
       "<path fill=\"none\" stroke=\"black\" d=\"M492.806,-222.907C492.623,-212.204 492.425,-200.615 492.24,-189.776\"/>\r\n",
       "<polygon fill=\"black\" stroke=\"black\" points=\"495.737,-189.606 492.067,-179.667 488.738,-189.725 495.737,-189.606\"/>\r\n",
       "</g>\r\n",
       "<!-- 12 -->\r\n",
       "<g id=\"node13\" class=\"node\"><title>12</title>\r\n",
       "<path fill=\"#39e581\" stroke=\"black\" d=\"M673,-179.5C673,-179.5 582,-179.5 582,-179.5 576,-179.5 570,-173.5 570,-167.5 570,-167.5 570,-123.5 570,-123.5 570,-117.5 576,-111.5 582,-111.5 582,-111.5 673,-111.5 673,-111.5 679,-111.5 685,-117.5 685,-123.5 685,-123.5 685,-167.5 685,-167.5 685,-173.5 679,-179.5 673,-179.5\"/>\r\n",
       "<text text-anchor=\"start\" x=\"585.5\" y=\"-164.3\" font-family=\"Helvetica,sans-Serif\" font-size=\"14.00\">entropy = 0.0</text>\r\n",
       "<text text-anchor=\"start\" x=\"588\" y=\"-149.3\" font-family=\"Helvetica,sans-Serif\" font-size=\"14.00\">samples = 3</text>\r\n",
       "<text text-anchor=\"start\" x=\"579\" y=\"-134.3\" font-family=\"Helvetica,sans-Serif\" font-size=\"14.00\">value = [0, 3, 0]</text>\r\n",
       "<text text-anchor=\"start\" x=\"578\" y=\"-119.3\" font-family=\"Helvetica,sans-Serif\" font-size=\"14.00\">class = class_1</text>\r\n",
       "</g>\r\n",
       "<!-- 10&#45;&gt;12 -->\r\n",
       "<g id=\"edge12\" class=\"edge\"><title>10&#45;&gt;12</title>\r\n",
       "<path fill=\"none\" stroke=\"black\" d=\"M539.991,-222.907C553.513,-211.101 568.269,-198.217 581.746,-186.45\"/>\r\n",
       "<polygon fill=\"black\" stroke=\"black\" points=\"584.283,-188.881 589.514,-179.667 579.679,-183.608 584.283,-188.881\"/>\r\n",
       "</g>\r\n",
       "</g>\r\n",
       "</svg>\r\n"
      ],
      "text/plain": [
       "<graphviz.files.Source at 0x1fdca8f3b70>"
      ]
     },
     "execution_count": 11,
     "metadata": {},
     "output_type": "execute_result"
    }
   ],
   "source": [
    "dot_data = export_graphviz(clf, out_file=None, \n",
    "                         feature_names=wine.feature_names,  \n",
    "                         class_names=wine.target_names,  \n",
    "                         filled=True, rounded=True,  \n",
    "                         special_characters=True)  \n",
    "graph = graphviz.Source(dot_data) \n",
    "graph"
   ]
  },
  {
   "cell_type": "code",
   "execution_count": null,
   "metadata": {},
   "outputs": [],
   "source": []
  }
 ],
 "metadata": {
  "kernelspec": {
   "display_name": "Python 3",
   "language": "python",
   "name": "python3"
  },
  "language_info": {
   "codemirror_mode": {
    "name": "ipython",
    "version": 3
   },
   "file_extension": ".py",
   "mimetype": "text/x-python",
   "name": "python",
   "nbconvert_exporter": "python",
   "pygments_lexer": "ipython3",
   "version": "3.6.5"
  }
 },
 "nbformat": 4,
 "nbformat_minor": 2
}
