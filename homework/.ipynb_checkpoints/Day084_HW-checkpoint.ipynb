{
 "cells": [
  {
   "cell_type": "markdown",
   "metadata": {},
   "source": [
    "## Work\n",
    "### 請結合前面的知識與程式碼，比較不同的 regularization 的組合對訓練的結果與影響：如 dropout, regularizers, batch-normalization 等"
   ]
  },
  {
   "cell_type": "code",
   "execution_count": 1,
   "metadata": {},
   "outputs": [
    {
     "name": "stderr",
     "output_type": "stream",
     "text": [
      "Using TensorFlow backend.\n"
     ]
    }
   ],
   "source": [
    "import os\n",
    "import keras\n",
    "import itertools\n",
    "from keras.layers import BatchNormalization\n",
    "import matplotlib.pyplot as plt\n",
    "from keras.regularizers import l1, l2, l1_l2\n",
    "from keras.layers import Dropout\n",
    "\n",
    "%matplotlib inline\n",
    "\n",
    "# Disable GPU\n",
    "#os.environ[\"CUDA_VISIBLE_DEVICES\"] = \"\""
   ]
  },
  {
   "cell_type": "code",
   "execution_count": 2,
   "metadata": {},
   "outputs": [],
   "source": [
    "train, test = keras.datasets.cifar10.load_data()"
   ]
  },
  {
   "cell_type": "code",
   "execution_count": 3,
   "metadata": {},
   "outputs": [],
   "source": [
    "## 資料前處理\n",
    "def preproc_x(x, flatten=True):\n",
    "    x = x / 255.\n",
    "    if flatten:\n",
    "        x = x.reshape((len(x), -1))\n",
    "    return x\n",
    "\n",
    "def preproc_y(y, num_classes=10):\n",
    "    if y.shape[-1] == 1:\n",
    "        y = keras.utils.to_categorical(y, num_classes)\n",
    "    return y    "
   ]
  },
  {
   "cell_type": "code",
   "execution_count": 4,
   "metadata": {},
   "outputs": [],
   "source": [
    "x_train, y_train = train\n",
    "x_test, y_test = test\n",
    "\n",
    "# Preproc the inputs\n",
    "x_train = preproc_x(x_train)\n",
    "x_test = preproc_x(x_test)\n",
    "\n",
    "# Preprc the outputs\n",
    "y_train = preproc_y(y_train)\n",
    "y_test = preproc_y(y_test)"
   ]
  },
  {
   "cell_type": "code",
   "execution_count": 5,
   "metadata": {},
   "outputs": [],
   "source": [
    "\"\"\"Code Here\n",
    "建立你的神經網路\n",
    "\"\"\"\n",
    "\n",
    "def build_mlp(input_shape, output_units=10, num_neurons=[512, 256, 128, 64], l2_ratio=1e-4, drp_ratio=0.5):\n",
    "    input_layer = keras.layers.Input(input_shape)\n",
    "    \n",
    "    for i, n_units in enumerate(num_neurons):\n",
    "        if i == 0:\n",
    "            x = keras.layers.Dense(units=n_units, \n",
    "                                   activation=\"relu\", \n",
    "                                   name=\"hidden_layer\"+str(i+1), \n",
    "                                   kernel_regularizer=l2(l2_ratio))(input_layer)\n",
    "            x = BatchNormalization()(x)\n",
    "            x = Dropout(Dropout_EXP)(x)\n",
    "            \n",
    "        else:\n",
    "            x = keras.layers.Dense(units=n_units, \n",
    "                                   activation=\"relu\", \n",
    "                                   name=\"hidden_layer\"+str(i+1),\n",
    "                                   kernel_regularizer=l2(l2_ratio))(x)\n",
    "            x = BatchNormalization()(x)\n",
    "            x = Dropout(Dropout_EXP)(x)\n",
    "    \n",
    "    out = keras.layers.Dense(units=output_units, activation=\"softmax\", name=\"output\")(x)\n",
    "    \n",
    "    model = keras.models.Model(inputs=[input_layer], outputs=[out])\n",
    "    return model"
   ]
  },
  {
   "cell_type": "code",
   "execution_count": 10,
   "metadata": {},
   "outputs": [],
   "source": [
    "\"\"\"Code Here\n",
    "設定超參數\n",
    "\"\"\"\n",
    "## 超參數設定\n",
    "LEARNING_RATE = 1e-3\n",
    "EPOCHS = 50\n",
    "BATCH_SIZE = 4096\n",
    "MOMENTUM = 0.95\n",
    "L2_EXP = 1e-8\n",
    "Dropout_EXP = 0.1\n"
   ]
  },
  {
   "cell_type": "code",
   "execution_count": 11,
   "metadata": {
    "scrolled": true
   },
   "outputs": [
    {
     "name": "stdout",
     "output_type": "stream",
     "text": [
      "Model: \"model_1\"\n",
      "_________________________________________________________________\n",
      "Layer (type)                 Output Shape              Param #   \n",
      "=================================================================\n",
      "input_1 (InputLayer)         (None, 3072)              0         \n",
      "_________________________________________________________________\n",
      "hidden_layer1 (Dense)        (None, 512)               1573376   \n",
      "_________________________________________________________________\n",
      "batch_normalization_1 (Batch (None, 512)               2048      \n",
      "_________________________________________________________________\n",
      "dropout_1 (Dropout)          (None, 512)               0         \n",
      "_________________________________________________________________\n",
      "hidden_layer2 (Dense)        (None, 256)               131328    \n",
      "_________________________________________________________________\n",
      "batch_normalization_2 (Batch (None, 256)               1024      \n",
      "_________________________________________________________________\n",
      "dropout_2 (Dropout)          (None, 256)               0         \n",
      "_________________________________________________________________\n",
      "hidden_layer3 (Dense)        (None, 128)               32896     \n",
      "_________________________________________________________________\n",
      "batch_normalization_3 (Batch (None, 128)               512       \n",
      "_________________________________________________________________\n",
      "dropout_3 (Dropout)          (None, 128)               0         \n",
      "_________________________________________________________________\n",
      "hidden_layer4 (Dense)        (None, 64)                8256      \n",
      "_________________________________________________________________\n",
      "batch_normalization_4 (Batch (None, 64)                256       \n",
      "_________________________________________________________________\n",
      "dropout_4 (Dropout)          (None, 64)                0         \n",
      "_________________________________________________________________\n",
      "output (Dense)               (None, 10)                650       \n",
      "=================================================================\n",
      "Total params: 1,750,346\n",
      "Trainable params: 1,748,426\n",
      "Non-trainable params: 1,920\n",
      "_________________________________________________________________\n",
      "Train on 50000 samples, validate on 10000 samples\n",
      "Epoch 1/50\n",
      "50000/50000 [==============================] - 2s 41us/step - loss: 2.9394 - acc: 0.1209 - val_loss: 2.7564 - val_acc: 0.1828\n",
      "Epoch 2/50\n",
      "50000/50000 [==============================] - 1s 23us/step - loss: 2.4698 - acc: 0.2115 - val_loss: 2.4195 - val_acc: 0.2495\n",
      "Epoch 3/50\n",
      "50000/50000 [==============================] - 1s 23us/step - loss: 2.2410 - acc: 0.2630 - val_loss: 2.2756 - val_acc: 0.2809\n",
      "Epoch 4/50\n",
      "50000/50000 [==============================] - 1s 23us/step - loss: 2.1229 - acc: 0.2872 - val_loss: 2.1084 - val_acc: 0.3074\n",
      "Epoch 5/50\n",
      "50000/50000 [==============================] - 1s 23us/step - loss: 2.0299 - acc: 0.3097 - val_loss: 1.9999 - val_acc: 0.3318\n",
      "Epoch 6/50\n",
      "50000/50000 [==============================] - 1s 23us/step - loss: 1.9728 - acc: 0.3220 - val_loss: 1.9293 - val_acc: 0.3471\n",
      "Epoch 7/50\n",
      "50000/50000 [==============================] - 1s 23us/step - loss: 1.9288 - acc: 0.3354 - val_loss: 1.8584 - val_acc: 0.3589\n",
      "Epoch 8/50\n",
      "50000/50000 [==============================] - 1s 23us/step - loss: 1.8925 - acc: 0.3446 - val_loss: 1.8253 - val_acc: 0.3683\n",
      "Epoch 9/50\n",
      "50000/50000 [==============================] - 1s 23us/step - loss: 1.8677 - acc: 0.3505 - val_loss: 1.7917 - val_acc: 0.3744\n",
      "Epoch 10/50\n",
      "50000/50000 [==============================] - 1s 23us/step - loss: 1.8393 - acc: 0.3578 - val_loss: 1.7607 - val_acc: 0.3791\n",
      "Epoch 11/50\n",
      "50000/50000 [==============================] - 1s 23us/step - loss: 1.8169 - acc: 0.3670 - val_loss: 1.7323 - val_acc: 0.3880\n",
      "Epoch 12/50\n",
      "50000/50000 [==============================] - 1s 23us/step - loss: 1.7884 - acc: 0.3739 - val_loss: 1.7115 - val_acc: 0.3913\n",
      "Epoch 13/50\n",
      "50000/50000 [==============================] - 1s 23us/step - loss: 1.7839 - acc: 0.3739 - val_loss: 1.6947 - val_acc: 0.4023\n",
      "Epoch 14/50\n",
      "50000/50000 [==============================] - 1s 23us/step - loss: 1.7595 - acc: 0.3819 - val_loss: 1.6834 - val_acc: 0.4078\n",
      "Epoch 15/50\n",
      "50000/50000 [==============================] - 1s 24us/step - loss: 1.7425 - acc: 0.3883 - val_loss: 1.6727 - val_acc: 0.4063\n",
      "Epoch 16/50\n",
      "50000/50000 [==============================] - 1s 23us/step - loss: 1.7315 - acc: 0.3908 - val_loss: 1.6632 - val_acc: 0.4070\n",
      "Epoch 17/50\n",
      "50000/50000 [==============================] - 1s 23us/step - loss: 1.7209 - acc: 0.3950 - val_loss: 1.6501 - val_acc: 0.4132\n",
      "Epoch 18/50\n",
      "50000/50000 [==============================] - 1s 23us/step - loss: 1.7049 - acc: 0.3999 - val_loss: 1.6465 - val_acc: 0.4189\n",
      "Epoch 19/50\n",
      "50000/50000 [==============================] - 1s 23us/step - loss: 1.6972 - acc: 0.4023 - val_loss: 1.6336 - val_acc: 0.4229\n",
      "Epoch 20/50\n",
      "50000/50000 [==============================] - 1s 23us/step - loss: 1.6843 - acc: 0.4068 - val_loss: 1.6250 - val_acc: 0.4312\n",
      "Epoch 21/50\n",
      "50000/50000 [==============================] - 1s 23us/step - loss: 1.6723 - acc: 0.4108 - val_loss: 1.6188 - val_acc: 0.4296\n",
      "Epoch 22/50\n",
      "50000/50000 [==============================] - 1s 23us/step - loss: 1.6603 - acc: 0.4125 - val_loss: 1.6098 - val_acc: 0.4304\n",
      "Epoch 23/50\n",
      "50000/50000 [==============================] - 1s 23us/step - loss: 1.6513 - acc: 0.4147 - val_loss: 1.6006 - val_acc: 0.4323\n",
      "Epoch 24/50\n",
      "50000/50000 [==============================] - 1s 24us/step - loss: 1.6436 - acc: 0.4210 - val_loss: 1.5924 - val_acc: 0.4380\n",
      "Epoch 25/50\n",
      "50000/50000 [==============================] - 1s 23us/step - loss: 1.6358 - acc: 0.4216 - val_loss: 1.5858 - val_acc: 0.4386\n",
      "Epoch 26/50\n",
      "50000/50000 [==============================] - 1s 24us/step - loss: 1.6321 - acc: 0.4242 - val_loss: 1.5807 - val_acc: 0.4415\n",
      "Epoch 27/50\n",
      "50000/50000 [==============================] - 1s 24us/step - loss: 1.6159 - acc: 0.4277 - val_loss: 1.5812 - val_acc: 0.4366\n",
      "Epoch 28/50\n",
      "50000/50000 [==============================] - 1s 24us/step - loss: 1.6118 - acc: 0.4307 - val_loss: 1.5690 - val_acc: 0.4459\n",
      "Epoch 29/50\n",
      "50000/50000 [==============================] - 1s 23us/step - loss: 1.6015 - acc: 0.4347 - val_loss: 1.5625 - val_acc: 0.4518\n",
      "Epoch 30/50\n",
      "50000/50000 [==============================] - 1s 23us/step - loss: 1.5992 - acc: 0.4353 - val_loss: 1.5530 - val_acc: 0.4515\n",
      "Epoch 31/50\n",
      "50000/50000 [==============================] - 1s 23us/step - loss: 1.5939 - acc: 0.4351 - val_loss: 1.5513 - val_acc: 0.4490\n",
      "Epoch 32/50\n",
      "50000/50000 [==============================] - 1s 23us/step - loss: 1.5827 - acc: 0.4392 - val_loss: 1.5484 - val_acc: 0.4516\n",
      "Epoch 33/50\n",
      "50000/50000 [==============================] - 1s 23us/step - loss: 1.5760 - acc: 0.4402 - val_loss: 1.5407 - val_acc: 0.4526\n",
      "Epoch 34/50\n",
      "50000/50000 [==============================] - 1s 23us/step - loss: 1.5693 - acc: 0.4414 - val_loss: 1.5377 - val_acc: 0.4547\n",
      "Epoch 35/50\n",
      "50000/50000 [==============================] - 1s 25us/step - loss: 1.5622 - acc: 0.4442 - val_loss: 1.5315 - val_acc: 0.4591\n",
      "Epoch 36/50\n",
      "50000/50000 [==============================] - 1s 24us/step - loss: 1.5556 - acc: 0.4485 - val_loss: 1.5320 - val_acc: 0.4606\n",
      "Epoch 37/50\n",
      "50000/50000 [==============================] - 1s 23us/step - loss: 1.5501 - acc: 0.4503 - val_loss: 1.5288 - val_acc: 0.4576\n",
      "Epoch 38/50\n",
      "50000/50000 [==============================] - 1s 23us/step - loss: 1.5444 - acc: 0.4507 - val_loss: 1.5258 - val_acc: 0.4581\n",
      "Epoch 39/50\n",
      "50000/50000 [==============================] - 1s 24us/step - loss: 1.5372 - acc: 0.4543 - val_loss: 1.5214 - val_acc: 0.4595\n",
      "Epoch 40/50\n",
      "50000/50000 [==============================] - 1s 23us/step - loss: 1.5315 - acc: 0.4567 - val_loss: 1.5124 - val_acc: 0.4601\n",
      "Epoch 41/50\n",
      "50000/50000 [==============================] - 1s 24us/step - loss: 1.5247 - acc: 0.4568 - val_loss: 1.5151 - val_acc: 0.4620\n",
      "Epoch 42/50\n",
      "50000/50000 [==============================] - 1s 23us/step - loss: 1.5247 - acc: 0.4590 - val_loss: 1.5053 - val_acc: 0.4657\n",
      "Epoch 43/50\n",
      "50000/50000 [==============================] - 1s 24us/step - loss: 1.5176 - acc: 0.4600 - val_loss: 1.4979 - val_acc: 0.4662\n",
      "Epoch 44/50\n"
     ]
    },
    {
     "name": "stdout",
     "output_type": "stream",
     "text": [
      "50000/50000 [==============================] - 1s 23us/step - loss: 1.5164 - acc: 0.4642 - val_loss: 1.4988 - val_acc: 0.4662\n",
      "Epoch 45/50\n",
      "50000/50000 [==============================] - 1s 23us/step - loss: 1.5067 - acc: 0.4640 - val_loss: 1.4937 - val_acc: 0.4696\n",
      "Epoch 46/50\n",
      "50000/50000 [==============================] - 1s 23us/step - loss: 1.5004 - acc: 0.4682 - val_loss: 1.4953 - val_acc: 0.4687\n",
      "Epoch 47/50\n",
      "50000/50000 [==============================] - 1s 23us/step - loss: 1.4989 - acc: 0.4669 - val_loss: 1.4881 - val_acc: 0.4692\n",
      "Epoch 48/50\n",
      "50000/50000 [==============================] - 1s 23us/step - loss: 1.4956 - acc: 0.4682 - val_loss: 1.4876 - val_acc: 0.4684\n",
      "Epoch 49/50\n",
      "50000/50000 [==============================] - 1s 23us/step - loss: 1.4882 - acc: 0.4716 - val_loss: 1.4801 - val_acc: 0.4741\n",
      "Epoch 50/50\n",
      "50000/50000 [==============================] - 1s 24us/step - loss: 1.4810 - acc: 0.4746 - val_loss: 1.4845 - val_acc: 0.4728\n"
     ]
    }
   ],
   "source": [
    "results = {}\n",
    "\"\"\"Code Here\n",
    "撰寫你的訓練流程並將結果用 dictionary 紀錄\n",
    "\"\"\"\n",
    "keras.backend.clear_session() # 把舊的 Graph 清掉\n",
    "\n",
    "#print(\"Experiment with Regulizer = %.6f\" % (regulizer_ratio))\n",
    "\n",
    "model = build_mlp(input_shape=x_train.shape[1:], l2_ratio=L2_EXP, drp_ratio=Dropout_EXP)\n",
    "model.summary()\n",
    "optimizer = keras.optimizers.SGD(lr=LEARNING_RATE, nesterov=True, momentum=MOMENTUM)\n",
    "model.compile(loss=\"categorical_crossentropy\", metrics=[\"accuracy\"], optimizer=optimizer)\n",
    "\n",
    "model.fit(x_train, y_train, \n",
    "          epochs=EPOCHS,\n",
    "          batch_size=BATCH_SIZE,\n",
    "          validation_data=(x_test, y_test), \n",
    "          shuffle=True)\n",
    "    \n",
    "# Collect results\n",
    "train_loss = model.history.history[\"loss\"]\n",
    "valid_loss = model.history.history[\"val_loss\"]\n",
    "train_acc = model.history.history[\"acc\"]\n",
    "valid_acc = model.history.history[\"val_acc\"]\n",
    "    \n",
    "exp_name_tag = \"exp-l2\"\n",
    "results[exp_name_tag] = {'train-loss': train_loss,\n",
    "                         'valid-loss': valid_loss,\n",
    "                         'train-acc': train_acc,\n",
    "                         'valid-acc': valid_acc}"
   ]
  },
  {
   "cell_type": "code",
   "execution_count": 12,
   "metadata": {},
   "outputs": [
    {
     "data": {
      "image/png": "[encoded data removed]",
      "text/plain": [
       "<Figure size 576x432 with 1 Axes>"
      ]
     },
     "metadata": {
      "needs_background": "light"
     },
     "output_type": "display_data"
    },
    {
     "data": {
      "image/png": "[encoded data removed]",
      "text/plain": [
       "<Figure size 576x432 with 1 Axes>"
      ]
     },
     "metadata": {
      "needs_background": "light"
     },
     "output_type": "display_data"
    }
   ],
   "source": [
    "import matplotlib.pyplot as plt\n",
    "%matplotlib inline\n",
    "\"\"\"Code Here\n",
    "將結果繪出\n",
    "\"\"\"\n",
    "color_bar = [\"r\", \"g\", \"b\", \"y\", \"m\", \"k\"]\n",
    "\n",
    "plt.figure(figsize=(8,6))\n",
    "for i, cond in enumerate(results.keys()):\n",
    "    plt.plot(range(len(results[cond]['train-loss'])),results[cond]['train-loss'], '-', label=cond, color=color_bar[i])\n",
    "    plt.plot(range(len(results[cond]['valid-loss'])),results[cond]['valid-loss'], '--', label=cond, color=color_bar[i])\n",
    "plt.title(\"Loss\")\n",
    "plt.ylim([0, 5])\n",
    "plt.legend()\n",
    "plt.show()\n",
    "\n",
    "plt.figure(figsize=(8,6))\n",
    "for i, cond in enumerate(results.keys()):\n",
    "    plt.plot(range(len(results[cond]['train-acc'])),results[cond]['train-acc'], '-', label=cond, color=color_bar[i])\n",
    "    plt.plot(range(len(results[cond]['valid-acc'])),results[cond]['valid-acc'], '--', label=cond, color=color_bar[i])\n",
    "plt.title(\"Accuracy\")\n",
    "plt.legend()\n",
    "plt.show()"
   ]
  },
  {
   "cell_type": "code",
   "execution_count": null,
   "metadata": {},
   "outputs": [],
   "source": []
  }
 ],
 "metadata": {
  "kernelspec": {
   "display_name": "Python 3",
   "language": "python",
   "name": "python3"
  },
  "language_info": {
   "codemirror_mode": {
    "name": "ipython",
    "version": 3
   },
   "file_extension": ".py",
   "mimetype": "text/x-python",
   "name": "python",
   "nbconvert_exporter": "python",
   "pygments_lexer": "ipython3",
   "version": "3.7.3"
  }
 },
 "nbformat": 4,
 "nbformat_minor": 2
}
