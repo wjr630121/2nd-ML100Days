{
 "cells": [
  {
   "cell_type": "markdown",
   "metadata": {},
   "source": [
    "# 作業\n",
    "* 試著想想看, 非監督學習是否有可能使用評價函數 (Metric) 來鑑別好壞呢?  \n",
    "(Hint : 可以分為 \"有目標值\" 與 \"無目標值\" 兩個方向思考)"
   ]
  },
  {
   "cell_type": "markdown",
   "metadata": {
    "collapsed": true
   },
   "source": [
    "非監督沒有目標數據，該如何進行評估呢？下面主要介紹一下沒有目標數據的聚類評估指標：凝聚度、分離度、輪廓系數。\n",
    "\n",
    "凝聚度（cohesion）：對於已聚類數據中的樣本，計算該樣本與同一類簇中的所有其他樣本距離的平均值。\n",
    "\n",
    "分離度（separation）：選取一個樣本，計算該樣本與該樣本外的一個類簇內的所有樣本的平均距離，遍歷所有其他類簇，找到最近的這個平均距離。\n",
    "\n",
    "輪廓系數（Silhouette coefficient）：適用於實際目標信息未知的情況。它同時兼顧了聚類的凝聚度 和 分離度。輪廓系數計算公式為：s=（b−a）/max(a, b)\n",
    "\n"
   ]
  },
  {
   "cell_type": "code",
   "execution_count": null,
   "metadata": {},
   "outputs": [],
   "source": []
  }
 ],
 "metadata": {
  "kernelspec": {
   "display_name": "Python 3",
   "language": "python",
   "name": "python3"
  },
  "language_info": {
   "codemirror_mode": {
    "name": "ipython",
    "version": 3
   },
   "file_extension": ".py",
   "mimetype": "text/x-python",
   "name": "python",
   "nbconvert_exporter": "python",
   "pygments_lexer": "ipython3",
   "version": "3.6.5"
  }
 },
 "nbformat": 4,
 "nbformat_minor": 1
}
