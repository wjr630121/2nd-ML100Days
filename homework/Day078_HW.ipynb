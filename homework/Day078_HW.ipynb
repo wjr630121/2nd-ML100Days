{
 "cells": [
  {
   "cell_type": "markdown",
   "metadata": {},
   "source": [
    "## Work\n",
    "1. 請嘗試將 preproc_x 替換成以每筆資料的 min/max 進行標準化至 -1 ~ 1 間，再進行訓練\n",
    "2. 請嘗試將 mlp 疊更深 (e.g 5~10 層)，進行訓練後觀察 learning curve 的走勢\n",
    "3. (optional) 請改用 GPU 進行訓練 (如果你有 GPU 的話)，比較使用 CPU 與 GPU 的訓練速度"
   ]
  },
  {
   "cell_type": "code",
   "execution_count": 1,
   "metadata": {},
   "outputs": [],
   "source": [
    "## \n",
    "\"\"\"\n",
    "Your code here (optional)\n",
    "確認硬體資源\n",
    "\"\"\"\n"
   ]
  },
  {
   "cell_type": "code",
   "execution_count": 1,
   "metadata": {},
   "outputs": [
    {
     "name": "stderr",
     "output_type": "stream",
     "text": [
      "C:\\Users\\wjr63\\Anaconda3\\lib\\site-packages\\h5py\\__init__.py:36: FutureWarning: Conversion of the second argument of issubdtype from `float` to `np.floating` is deprecated. In future, it will be treated as `np.float64 == np.dtype(float).type`.\n",
      "  from ._conv import register_converters as _register_converters\n",
      "Using TensorFlow backend.\n"
     ]
    }
   ],
   "source": [
    "import os\n",
    "import keras\n",
    "import numpy as np\n",
    "# 請嘗試設定 GPU：os.environ\n"
   ]
  },
  {
   "cell_type": "code",
   "execution_count": 2,
   "metadata": {},
   "outputs": [],
   "source": [
    "train, test = keras.datasets.cifar10.load_data()"
   ]
  },
  {
   "cell_type": "code",
   "execution_count": 21,
   "metadata": {},
   "outputs": [],
   "source": [
    "## 資料前處理\n",
    "\"\"\"\n",
    "Your code here\n",
    "\"\"\"\n",
    "## 資料前處理\n",
    "def preproc_x(x, flatten=True):\n",
    "    x = (x / 255) * 2 - 1\n",
    "    if flatten:\n",
    "        x = x.reshape((len(x), -1))\n",
    "    return x\n",
    "\n",
    "def preproc_y(y, num_classes=10):\n",
    "    if y.shape[-1] == 1:\n",
    "        y = keras.utils.to_categorical(y, num_classes)\n",
    "    return y    "
   ]
  },
  {
   "cell_type": "code",
   "execution_count": 22,
   "metadata": {},
   "outputs": [],
   "source": [
    "x_train, y_train = train\n",
    "x_test, y_test = test\n",
    "\n",
    "# Preproc the inputs\n",
    "x_train = preproc_x(x_train)\n",
    "x_test = preproc_x(x_test)\n",
    "\n",
    "# Preprc the outputs\n",
    "y_train = preproc_y(y_train)\n",
    "y_test = preproc_y(y_test)"
   ]
  },
  {
   "cell_type": "code",
   "execution_count": 23,
   "metadata": {},
   "outputs": [
    {
     "data": {
      "text/plain": [
       "array([[-0.5372549 , -0.51372549, -0.50588235, ..., -0.03529412,\n",
       "        -0.27843137, -0.43529412],\n",
       "       [ 0.20784314,  0.38823529,  0.46666667, ...,  0.12156863,\n",
       "         0.04313725,  0.12941176],\n",
       "       [ 1.        ,  1.        ,  1.        , ..., -0.37254902,\n",
       "        -0.3254902 , -0.34117647],\n",
       "       [-0.78039216, -0.80392157, -0.92156863, ..., -0.43529412,\n",
       "        -0.49019608, -0.63921569],\n",
       "       [ 0.33333333,  0.41176471,  0.55294118, ..., -0.42745098,\n",
       "        -0.39607843, -0.37254902]])"
      ]
     },
     "execution_count": 23,
     "metadata": {},
     "output_type": "execute_result"
    }
   ],
   "source": [
    "x_train[0:5]"
   ]
  },
  {
   "cell_type": "code",
   "execution_count": 25,
   "metadata": {},
   "outputs": [
    {
     "name": "stdout",
     "output_type": "stream",
     "text": [
      "_________________________________________________________________\n",
      "Layer (type)                 Output Shape              Param #   \n",
      "=================================================================\n",
      "input_2 (InputLayer)         (None, 3072)              0         \n",
      "_________________________________________________________________\n",
      "hidden_layer1 (Dense)        (None, 512)               1573376   \n",
      "_________________________________________________________________\n",
      "hidden_layer2 (Dense)        (None, 256)               131328    \n",
      "_________________________________________________________________\n",
      "hidden_layer3 (Dense)        (None, 128)               32896     \n",
      "_________________________________________________________________\n",
      "hidden_layer4 (Dense)        (None, 64)                8256      \n",
      "_________________________________________________________________\n",
      "hidden_layer5 (Dense)        (None, 32)                2080      \n",
      "_________________________________________________________________\n",
      "output (Dense)               (None, 10)                330       \n",
      "=================================================================\n",
      "Total params: 1,748,266\n",
      "Trainable params: 1,748,266\n",
      "Non-trainable params: 0\n",
      "_________________________________________________________________\n"
     ]
    }
   ],
   "source": [
    "\"\"\"Code Here\n",
    "建立你的神經網路\n",
    "\"\"\"\n",
    "def build_mlp(input_shape, output_units=10, num_neurons=[512, 256, 128, 64, 32]):\n",
    "    input_layer = keras.layers.Input(input_shape)\n",
    "    \n",
    "    for i, n_units in enumerate(num_neurons):\n",
    "        if i == 0:\n",
    "            x = keras.layers.Dense(units=n_units, activation=\"relu\", name=\"hidden_layer\"+str(i+1))(input_layer)\n",
    "        else:\n",
    "            x = keras.layers.Dense(units=n_units, activation=\"relu\", name=\"hidden_layer\"+str(i+1))(x)\n",
    "    \n",
    "    out = keras.layers.Dense(units=output_units, activation=\"softmax\", name=\"output\")(x)\n",
    "    \n",
    "    model = keras.models.Model(inputs=[input_layer], outputs=[out])\n",
    "    return model\n",
    "\n",
    "model = build_mlp(input_shape=x_train.shape[1:])\n",
    "model.summary()"
   ]
  },
  {
   "cell_type": "code",
   "execution_count": 26,
   "metadata": {},
   "outputs": [],
   "source": [
    "## 超參數設定\n",
    "LEARNING_RATE = 0.001\n",
    "EPOCHS = 100\n",
    "BATCH_SIZE = 256"
   ]
  },
  {
   "cell_type": "code",
   "execution_count": 27,
   "metadata": {},
   "outputs": [],
   "source": [
    "optimizer = keras.optimizers.Adam(lr=LEARNING_RATE)\n",
    "model.compile(loss=\"categorical_crossentropy\", metrics=[\"accuracy\"], optimizer=optimizer)"
   ]
  },
  {
   "cell_type": "code",
   "execution_count": 28,
   "metadata": {},
   "outputs": [
    {
     "name": "stdout",
     "output_type": "stream",
     "text": [
      "Train on 50000 samples, validate on 10000 samples\n",
      "Epoch 1/100\n",
      "50000/50000 [==============================] - 7s 132us/step - loss: 1.7126 - acc: 0.3910 - val_loss: 1.5270 - val_acc: 0.4565.7412 \n",
      "Epoch 2/100\n",
      "50000/50000 [==============================] - 4s 86us/step - loss: 1.4744 - acc: 0.4800 - val_loss: 1.4869 - val_acc: 0.4674\n",
      "Epoch 3/100\n",
      "50000/50000 [==============================] - 4s 83us/step - loss: 1.3577 - acc: 0.5221 - val_loss: 1.4257 - val_acc: 0.5009\n",
      "Epoch 4/100\n",
      "50000/50000 [==============================] - 4s 83us/step - loss: 1.2678 - acc: 0.5523 - val_loss: 1.3771 - val_acc: 0.5162\n",
      "Epoch 5/100\n",
      "50000/50000 [==============================] - 4s 83us/step - loss: 1.1816 - acc: 0.5829 - val_loss: 1.3686 - val_acc: 0.5168\n",
      "Epoch 6/100\n",
      "50000/50000 [==============================] - 4s 83us/step - loss: 1.1021 - acc: 0.6123 - val_loss: 1.3603 - val_acc: 0.5320\n",
      "Epoch 7/100\n",
      "50000/50000 [==============================] - 4s 83us/step - loss: 1.0261 - acc: 0.6364 - val_loss: 1.3769 - val_acc: 0.5329\n",
      "Epoch 8/100\n",
      "50000/50000 [==============================] - 4s 83us/step - loss: 0.9567 - acc: 0.6617 - val_loss: 1.4029 - val_acc: 0.5342A: 0s - loss: 0.\n",
      "Epoch 9/100\n",
      "50000/50000 [==============================] - 4s 83us/step - loss: 0.8926 - acc: 0.6811 - val_loss: 1.4259 - val_acc: 0.5294\n",
      "Epoch 10/100\n",
      "50000/50000 [==============================] - 4s 85us/step - loss: 0.8135 - acc: 0.7103 - val_loss: 1.4330 - val_acc: 0.5472\n",
      "Epoch 11/100\n",
      "50000/50000 [==============================] - 4s 85us/step - loss: 0.7508 - acc: 0.7326 - val_loss: 1.5021 - val_acc: 0.5347\n",
      "Epoch 12/100\n",
      "50000/50000 [==============================] - 4s 85us/step - loss: 0.7004 - acc: 0.7524 - val_loss: 1.5583 - val_acc: 0.5379\n",
      "Epoch 13/100\n",
      "50000/50000 [==============================] - 4s 85us/step - loss: 0.6320 - acc: 0.7756 - val_loss: 1.6225 - val_acc: 0.5337\n",
      "Epoch 14/100\n",
      "50000/50000 [==============================] - 4s 87us/step - loss: 0.5779 - acc: 0.7946 - val_loss: 1.6997 - val_acc: 0.5403\n",
      "Epoch 15/100\n",
      "50000/50000 [==============================] - 4s 87us/step - loss: 0.5329 - acc: 0.8101 - val_loss: 1.8104 - val_acc: 0.5287\n",
      "Epoch 16/100\n",
      "50000/50000 [==============================] - 4s 86us/step - loss: 0.4915 - acc: 0.8265 - val_loss: 1.8733 - val_acc: 0.5321\n",
      "Epoch 17/100\n",
      "50000/50000 [==============================] - 4s 86us/step - loss: 0.4400 - acc: 0.8453 - val_loss: 1.8863 - val_acc: 0.5422\n",
      "Epoch 18/100\n",
      "50000/50000 [==============================] - 4s 85us/step - loss: 0.4049 - acc: 0.8564 - val_loss: 2.0311 - val_acc: 0.5323\n",
      "Epoch 19/100\n",
      "50000/50000 [==============================] - 4s 85us/step - loss: 0.3733 - acc: 0.8685 - val_loss: 2.1071 - val_acc: 0.5243\n",
      "Epoch 20/100\n",
      "50000/50000 [==============================] - 4s 85us/step - loss: 0.3474 - acc: 0.8780 - val_loss: 2.2458 - val_acc: 0.5255\n",
      "Epoch 21/100\n",
      "50000/50000 [==============================] - 4s 86us/step - loss: 0.3174 - acc: 0.8896 - val_loss: 2.3340 - val_acc: 0.5283\n",
      "Epoch 22/100\n",
      "50000/50000 [==============================] - 4s 86us/step - loss: 0.2968 - acc: 0.8952 - val_loss: 2.4532 - val_acc: 0.5290\n",
      "Epoch 23/100\n",
      "50000/50000 [==============================] - 4s 86us/step - loss: 0.2778 - acc: 0.9038 - val_loss: 2.4801 - val_acc: 0.5347\n",
      "Epoch 24/100\n",
      "50000/50000 [==============================] - 4s 88us/step - loss: 0.2721 - acc: 0.9059 - val_loss: 2.5241 - val_acc: 0.5303\n",
      "Epoch 25/100\n",
      "50000/50000 [==============================] - 5s 90us/step - loss: 0.2589 - acc: 0.9100 - val_loss: 2.6580 - val_acc: 0.5235\n",
      "Epoch 26/100\n",
      "50000/50000 [==============================] - 4s 88us/step - loss: 0.2336 - acc: 0.9198 - val_loss: 2.6905 - val_acc: 0.5284\n",
      "Epoch 27/100\n",
      "50000/50000 [==============================] - 4s 87us/step - loss: 0.2355 - acc: 0.9179 - val_loss: 2.6239 - val_acc: 0.5275\n",
      "Epoch 28/100\n",
      "50000/50000 [==============================] - 4s 88us/step - loss: 0.2126 - acc: 0.9274 - val_loss: 2.8073 - val_acc: 0.5323\n",
      "Epoch 29/100\n",
      "50000/50000 [==============================] - 4s 87us/step - loss: 0.1834 - acc: 0.9362 - val_loss: 2.9090 - val_acc: 0.5354\n",
      "Epoch 30/100\n",
      "50000/50000 [==============================] - 4s 90us/step - loss: 0.1763 - acc: 0.9390 - val_loss: 2.9987 - val_acc: 0.5357\n",
      "Epoch 31/100\n",
      "50000/50000 [==============================] - 5s 90us/step - loss: 0.1931 - acc: 0.9343 - val_loss: 2.9709 - val_acc: 0.5300\n",
      "Epoch 32/100\n",
      "50000/50000 [==============================] - 4s 88us/step - loss: 0.1852 - acc: 0.9357 - val_loss: 3.0180 - val_acc: 0.5289\n",
      "Epoch 33/100\n",
      "50000/50000 [==============================] - 4s 87us/step - loss: 0.1667 - acc: 0.9429 - val_loss: 3.1243 - val_acc: 0.5274\n",
      "Epoch 34/100\n",
      "50000/50000 [==============================] - 4s 88us/step - loss: 0.1681 - acc: 0.9423 - val_loss: 3.0461 - val_acc: 0.5300\n",
      "Epoch 35/100\n",
      "50000/50000 [==============================] - 4s 89us/step - loss: 0.1773 - acc: 0.9394 - val_loss: 3.0960 - val_acc: 0.5285\n",
      "Epoch 36/100\n",
      "50000/50000 [==============================] - 4s 88us/step - loss: 0.1653 - acc: 0.9446 - val_loss: 3.1102 - val_acc: 0.5369\n",
      "Epoch 37/100\n",
      "50000/50000 [==============================] - 4s 89us/step - loss: 0.1604 - acc: 0.9461 - val_loss: 3.1290 - val_acc: 0.5321\n",
      "Epoch 38/100\n",
      "50000/50000 [==============================] - 4s 89us/step - loss: 0.1455 - acc: 0.9495 - val_loss: 3.1344 - val_acc: 0.5380\n",
      "Epoch 39/100\n",
      "50000/50000 [==============================] - 4s 89us/step - loss: 0.1349 - acc: 0.9547 - val_loss: 3.2821 - val_acc: 0.5292\n",
      "Epoch 40/100\n",
      "50000/50000 [==============================] - 4s 89us/step - loss: 0.1493 - acc: 0.9494 - val_loss: 3.3958 - val_acc: 0.5329\n",
      "Epoch 41/100\n",
      "50000/50000 [==============================] - 4s 90us/step - loss: 0.1301 - acc: 0.9557 - val_loss: 3.2996 - val_acc: 0.5245\n",
      "Epoch 42/100\n",
      "50000/50000 [==============================] - 4s 90us/step - loss: 0.1383 - acc: 0.9531 - val_loss: 3.2676 - val_acc: 0.5364\n",
      "Epoch 43/100\n",
      "50000/50000 [==============================] - 5s 92us/step - loss: 0.1564 - acc: 0.9464 - val_loss: 3.3253 - val_acc: 0.5228\n",
      "Epoch 44/100\n",
      "50000/50000 [==============================] - 4s 90us/step - loss: 0.1480 - acc: 0.9494 - val_loss: 3.3687 - val_acc: 0.5354\n",
      "Epoch 45/100\n",
      "50000/50000 [==============================] - 4s 90us/step - loss: 0.1022 - acc: 0.9660 - val_loss: 3.4852 - val_acc: 0.5294\n",
      "Epoch 46/100\n",
      "50000/50000 [==============================] - 4s 88us/step - loss: 0.1055 - acc: 0.9645 - val_loss: 3.5040 - val_acc: 0.5403\n",
      "Epoch 47/100\n",
      "50000/50000 [==============================] - 5s 91us/step - loss: 0.1324 - acc: 0.9551 - val_loss: 3.5025 - val_acc: 0.5260\n",
      "Epoch 48/100\n",
      "50000/50000 [==============================] - 4s 90us/step - loss: 0.1206 - acc: 0.9595 - val_loss: 3.5037 - val_acc: 0.5333\n",
      "Epoch 49/100\n",
      "50000/50000 [==============================] - 5s 91us/step - loss: 0.1188 - acc: 0.9606 - val_loss: 3.4955 - val_acc: 0.5320\n",
      "Epoch 50/100\n",
      "50000/50000 [==============================] - 5s 91us/step - loss: 0.1020 - acc: 0.9661 - val_loss: 3.5783 - val_acc: 0.5296\n",
      "Epoch 51/100\n",
      "50000/50000 [==============================] - 5s 92us/step - loss: 0.1279 - acc: 0.9580 - val_loss: 3.4244 - val_acc: 0.5266\n",
      "Epoch 52/100\n",
      "50000/50000 [==============================] - 5s 94us/step - loss: 0.1086 - acc: 0.9633 - val_loss: 3.5988 - val_acc: 0.5322\n",
      "Epoch 53/100\n",
      "50000/50000 [==============================] - 4s 90us/step - loss: 0.0969 - acc: 0.9674 - val_loss: 3.6317 - val_acc: 0.5345\n",
      "Epoch 54/100\n",
      "50000/50000 [==============================] - 5s 91us/step - loss: 0.1078 - acc: 0.9639 - val_loss: 3.7014 - val_acc: 0.5263\n",
      "Epoch 55/100\n",
      "50000/50000 [==============================] - 5s 92us/step - loss: 0.1226 - acc: 0.9599 - val_loss: 3.6222 - val_acc: 0.5258\n",
      "Epoch 56/100\n",
      "50000/50000 [==============================] - 5s 91us/step - loss: 0.0926 - acc: 0.9695 - val_loss: 3.6773 - val_acc: 0.5250\n",
      "Epoch 57/100\n",
      "50000/50000 [==============================] - 5s 91us/step - loss: 0.1193 - acc: 0.9617 - val_loss: 3.7184 - val_acc: 0.5283\n",
      "Epoch 58/100\n",
      "50000/50000 [==============================] - 5s 91us/step - loss: 0.0924 - acc: 0.9687 - val_loss: 3.7256 - val_acc: 0.5359\n",
      "Epoch 59/100\n"
     ]
    },
    {
     "name": "stdout",
     "output_type": "stream",
     "text": [
      "50000/50000 [==============================] - 4s 90us/step - loss: 0.0789 - acc: 0.9742 - val_loss: 3.7318 - val_acc: 0.5252\n",
      "Epoch 60/100\n",
      "50000/50000 [==============================] - 4s 89us/step - loss: 0.0975 - acc: 0.9675 - val_loss: 3.8382 - val_acc: 0.5269\n",
      "Epoch 61/100\n",
      "50000/50000 [==============================] - 4s 89us/step - loss: 0.1260 - acc: 0.9586 - val_loss: 3.6401 - val_acc: 0.5297\n",
      "Epoch 62/100\n",
      "50000/50000 [==============================] - 4s 89us/step - loss: 0.0954 - acc: 0.9682 - val_loss: 3.6487 - val_acc: 0.5319\n",
      "Epoch 63/100\n",
      "50000/50000 [==============================] - 4s 90us/step - loss: 0.0854 - acc: 0.9721 - val_loss: 3.7295 - val_acc: 0.5255\n",
      "Epoch 64/100\n",
      "50000/50000 [==============================] - 4s 90us/step - loss: 0.0841 - acc: 0.9716 - val_loss: 3.7606 - val_acc: 0.5306\n",
      "Epoch 65/100\n",
      "50000/50000 [==============================] - 4s 90us/step - loss: 0.0809 - acc: 0.9726 - val_loss: 3.8384 - val_acc: 0.5310\n",
      "Epoch 66/100\n",
      "50000/50000 [==============================] - 5s 90us/step - loss: 0.1205 - acc: 0.9608 - val_loss: 3.7117 - val_acc: 0.5286\n",
      "Epoch 67/100\n",
      "50000/50000 [==============================] - 5s 91us/step - loss: 0.0841 - acc: 0.9716 - val_loss: 3.8555 - val_acc: 0.5325\n",
      "Epoch 68/100\n",
      "50000/50000 [==============================] - 4s 90us/step - loss: 0.0936 - acc: 0.9699 - val_loss: 3.7946 - val_acc: 0.5288\n",
      "Epoch 69/100\n",
      "50000/50000 [==============================] - 4s 90us/step - loss: 0.0894 - acc: 0.9707 - val_loss: 3.7621 - val_acc: 0.5289\n",
      "Epoch 70/100\n",
      "50000/50000 [==============================] - 5s 92us/step - loss: 0.0703 - acc: 0.9769 - val_loss: 3.8328 - val_acc: 0.5328\n",
      "Epoch 71/100\n",
      "50000/50000 [==============================] - 4s 90us/step - loss: 0.0628 - acc: 0.9796 - val_loss: 3.9220 - val_acc: 0.5293\n",
      "Epoch 72/100\n",
      "50000/50000 [==============================] - 5s 91us/step - loss: 0.1007 - acc: 0.9689 - val_loss: 3.8754 - val_acc: 0.5308\n",
      "Epoch 73/100\n",
      "50000/50000 [==============================] - 4s 90us/step - loss: 0.0774 - acc: 0.9749 - val_loss: 3.8656 - val_acc: 0.5260\n",
      "Epoch 74/100\n",
      "50000/50000 [==============================] - 5s 91us/step - loss: 0.0869 - acc: 0.9728 - val_loss: 3.8859 - val_acc: 0.5273\n",
      "Epoch 75/100\n",
      "50000/50000 [==============================] - 5s 90us/step - loss: 0.0961 - acc: 0.9694 - val_loss: 3.8228 - val_acc: 0.5378\n",
      "Epoch 76/100\n",
      "50000/50000 [==============================] - 5s 90us/step - loss: 0.0918 - acc: 0.9703 - val_loss: 3.7666 - val_acc: 0.5265\n",
      "Epoch 77/100\n",
      "50000/50000 [==============================] - 5s 90us/step - loss: 0.0624 - acc: 0.9787 - val_loss: 3.9240 - val_acc: 0.5354\n",
      "Epoch 78/100\n",
      "50000/50000 [==============================] - 5s 92us/step - loss: 0.0664 - acc: 0.9782 - val_loss: 3.9413 - val_acc: 0.5287\n",
      "Epoch 79/100\n",
      "50000/50000 [==============================] - 5s 91us/step - loss: 0.0771 - acc: 0.9752 - val_loss: 3.9831 - val_acc: 0.5339\n",
      "Epoch 80/100\n",
      "50000/50000 [==============================] - 5s 92us/step - loss: 0.1110 - acc: 0.9655 - val_loss: 3.6915 - val_acc: 0.5318\n",
      "Epoch 81/100\n",
      "50000/50000 [==============================] - 5s 92us/step - loss: 0.0709 - acc: 0.9773 - val_loss: 3.8713 - val_acc: 0.5379\n",
      "Epoch 82/100\n",
      "50000/50000 [==============================] - 5s 92us/step - loss: 0.0809 - acc: 0.9741 - val_loss: 3.8308 - val_acc: 0.5318\n",
      "Epoch 83/100\n",
      "50000/50000 [==============================] - 5s 95us/step - loss: 0.0649 - acc: 0.9779 - val_loss: 3.8790 - val_acc: 0.5307\n",
      "Epoch 84/100\n",
      "50000/50000 [==============================] - 5s 91us/step - loss: 0.0470 - acc: 0.9847 - val_loss: 3.9496 - val_acc: 0.5346\n",
      "Epoch 85/100\n",
      "50000/50000 [==============================] - 5s 96us/step - loss: 0.0626 - acc: 0.9806 - val_loss: 4.0174 - val_acc: 0.5283\n",
      "Epoch 86/100\n",
      "50000/50000 [==============================] - 5s 93us/step - loss: 0.0885 - acc: 0.9716 - val_loss: 3.8822 - val_acc: 0.5278\n",
      "Epoch 87/100\n",
      "50000/50000 [==============================] - 5s 93us/step - loss: 0.0912 - acc: 0.9706 - val_loss: 3.7944 - val_acc: 0.5343\n",
      "Epoch 88/100\n",
      "50000/50000 [==============================] - 5s 95us/step - loss: 0.0764 - acc: 0.9753 - val_loss: 3.8634 - val_acc: 0.5295\n",
      "Epoch 89/100\n",
      "50000/50000 [==============================] - 5s 92us/step - loss: 0.0556 - acc: 0.9823 - val_loss: 3.9945 - val_acc: 0.5418\n",
      "Epoch 90/100\n",
      "50000/50000 [==============================] - 5s 95us/step - loss: 0.0547 - acc: 0.9823 - val_loss: 4.0736 - val_acc: 0.5290\n",
      "Epoch 91/100\n",
      "50000/50000 [==============================] - 5s 93us/step - loss: 0.0783 - acc: 0.9755 - val_loss: 3.8886 - val_acc: 0.5322\n",
      "Epoch 92/100\n",
      "50000/50000 [==============================] - 5s 90us/step - loss: 0.0736 - acc: 0.9770 - val_loss: 3.9919 - val_acc: 0.5279\n",
      "Epoch 93/100\n",
      "50000/50000 [==============================] - 5s 92us/step - loss: 0.0680 - acc: 0.9777 - val_loss: 4.0065 - val_acc: 0.5330\n",
      "Epoch 94/100\n",
      "50000/50000 [==============================] - 5s 94us/step - loss: 0.0804 - acc: 0.9746 - val_loss: 3.9517 - val_acc: 0.5302\n",
      "Epoch 95/100\n",
      "50000/50000 [==============================] - 5s 100us/step - loss: 0.0619 - acc: 0.9803 - val_loss: 3.9449 - val_acc: 0.5209\n",
      "Epoch 96/100\n",
      "50000/50000 [==============================] - 5s 92us/step - loss: 0.0475 - acc: 0.9845 - val_loss: 4.0494 - val_acc: 0.5354\n",
      "Epoch 97/100\n",
      "50000/50000 [==============================] - 5s 96us/step - loss: 0.0527 - acc: 0.9828 - val_loss: 4.1376 - val_acc: 0.5238\n",
      "Epoch 98/100\n",
      "50000/50000 [==============================] - 5s 94us/step - loss: 0.0962 - acc: 0.9692 - val_loss: 3.8618 - val_acc: 0.5403\n",
      "Epoch 99/100\n",
      "50000/50000 [==============================] - 5s 92us/step - loss: 0.0566 - acc: 0.9819 - val_loss: 4.0204 - val_acc: 0.5305\n",
      "Epoch 100/100\n",
      "50000/50000 [==============================] - 5s 93us/step - loss: 0.0575 - acc: 0.9817 - val_loss: 3.9967 - val_acc: 0.5324\n"
     ]
    },
    {
     "data": {
      "text/plain": [
       "<keras.callbacks.History at 0x1fff8cdbe80>"
      ]
     },
     "execution_count": 28,
     "metadata": {},
     "output_type": "execute_result"
    }
   ],
   "source": [
    "model.fit(x_train, y_train, \n",
    "          epochs=EPOCHS, \n",
    "          batch_size=BATCH_SIZE, \n",
    "          validation_data=(x_test, y_test), \n",
    "          shuffle=True)"
   ]
  },
  {
   "cell_type": "code",
   "execution_count": 30,
   "metadata": {},
   "outputs": [
    {
     "data": {
      "image/png": "[encoded data removed]",
      "text/plain": [
       "<Figure size 432x288 with 1 Axes>"
      ]
     },
     "metadata": {},
     "output_type": "display_data"
    },
    {
     "data": {
      "image/png": "[encoded data removed]",
      "text/plain": [
       "<Figure size 432x288 with 1 Axes>"
      ]
     },
     "metadata": {},
     "output_type": "display_data"
    }
   ],
   "source": [
    "import matplotlib.pyplot as plt\n",
    "\n",
    "\n",
    "train_loss = model.history.history[\"loss\"]\n",
    "valid_loss = model.history.history[\"val_loss\"]\n",
    "\n",
    "train_acc = model.history.history[\"acc\"]\n",
    "valid_acc = model.history.history[\"val_acc\"]\n",
    "\n",
    "plt.plot(range(len(train_loss)), train_loss, label=\"train loss\")\n",
    "plt.plot(range(len(valid_loss)), valid_loss, label=\"valid loss\")\n",
    "plt.legend()\n",
    "plt.title(\"Loss\")\n",
    "plt.show()\n",
    "\n",
    "plt.plot(range(len(train_acc)), train_acc, label=\"train accuracy\")\n",
    "plt.plot(range(len(valid_acc)), valid_acc, label=\"valid accuracy\")\n",
    "plt.legend()\n",
    "plt.title(\"Accuracy\")\n",
    "plt.show()"
   ]
  },
  {
   "cell_type": "code",
   "execution_count": null,
   "metadata": {},
   "outputs": [],
   "source": []
  }
 ],
 "metadata": {
  "kernelspec": {
   "display_name": "Python 3",
   "language": "python",
   "name": "python3"
  },
  "language_info": {
   "codemirror_mode": {
    "name": "ipython",
    "version": 3
   },
   "file_extension": ".py",
   "mimetype": "text/x-python",
   "name": "python",
   "nbconvert_exporter": "python",
   "pygments_lexer": "ipython3",
   "version": "3.6.5"
  }
 },
 "nbformat": 4,
 "nbformat_minor": 2
}
